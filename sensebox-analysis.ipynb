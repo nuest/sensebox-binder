{
 "cells": [
  {
   "cell_type": "code",
   "execution_count": null,
   "metadata": {
    "Rmd_chunk_options": "setup, include=FALSE",
    "autoscroll": false,
    "collapsed": true
   },
   "outputs": [],
   "source": [
    "knitr::opts_chunk$set(echo = TRUE)"
   ]
  },
  {
   "cell_type": "markdown",
   "metadata": {},
   "source": [
    "\n",
    "## Introduction\n",
    "\n",
    "This document showcases a completely reproducible [particulate](https://en.wikipedia.org/wiki/Particulates) matter analysis.\n",
    "Starting from the used measurement devices, via software for data hosting, to the analysis and visualisation environment.\n",
    "It stands on the shoulders of communities who provide free and open resources in the spirit of [Open Science](https://en.wikipedia.org/wiki/Open_science):\n",
    "\n",
    "- **open hardware**: the [senseBox](https://sensebox.de/en/) project\n",
    "- **open data**: the [openSenseMap](https://opensensemap.org/) and it's [API](https://api.opensensemap.org/) provide environmental data licensed under [PDDL 1.0](http://opendatacommons.org/licenses/pddl/summary/)\n",
    "- **free and open source software**: [software by the senseBox team](https://github.com/sensebox/) to host their services and [download the data into R](https://github.com/noerw/opensensmapR), [R](https://jupyter.org/) with a large number of packages (e.g. `rmarkdown`, `sf`, `dplyr`, ...), [Project Jupyter](https://jupyter.org/), [binder](https://mybinder.org/), [Rocker](https://www.rocker-project.org/), [Docker](https://docker.com/), ... and many more\n",
    "\n",
    "The actual analysis is based on the [opensensmapR vignette `osem-intro`](https://noerw.github.io/opensensmapR/inst/doc/osem-intro.html).\n",
    "The code and it's environment are published, documented, and packaged to support [reproducible research](https://doi.org/10.1045/january2017-nuest).\n",
    "\n",
    "The code repository is [https://github.com/nuest/sensebox-binder](https://github.com/nuest/sensebox-binder) and the [git version hash](https://git-scm.com/docs/git-rev-parse) is `r system(\"git rev-parse HEAD\", intern = TRUE)`.\n",
    "The repository can be opened interactively at [http://mybinder.org/v2/gh/nuest/sensebox-binder/master](http://mybinder.org/v2/gh/nuest/sensebox-binder/master).\n",
    "The code (this document as either [R Markdown](http://rmarkdown.rstudio.com/) or [Jupyter Notebook](https://nbformat.readthedocs.io/en/latest/)) and environment (a [Docker image](https://docs.docker.com/glossary/?term=image)) are archived with a [DOI](https://www.doi.org/): [`10.5281/zenodo.1135140`](https://doi.org/10.5281/zenodo.1135140).\n",
    "\n",
    "**Note**: The data is not included in the archive so this document can only be compiled as long as the openSenseMap API exists.\n",
    "\n",
    "## Analysis\n",
    "\n",
    "In the remainder of this file, code \"chunks\" and text are [interspersed](https://en.wikipedia.org/wiki/Literate_programming) to provide a transparent and understandable workflow.\n",
    "\n",
    "The analysis of takes a look at _fine particulate matter measured in Germany at New Year's Eve 2018_.\n",
    "\n",
    "### Load required software\n",
    "\n"
   ]
  },
  {
   "cell_type": "code",
   "execution_count": null,
   "metadata": {
    "Rmd_chunk_options": "packages, warning=FALSE, message=FALSE",
    "autoscroll": false,
    "collapsed": true
   },
   "outputs": [],
   "source": [
    "library(\"opensensmapr\")\n",
    "library(\"dplyr\")\n",
    "library(\"lubridate\")\n",
    "library(\"units\")\n",
    "library(\"sf\")\n",
    "library(\"leaflet\")"
   ]
  },
  {
   "cell_type": "markdown",
   "metadata": {},
   "source": [
    "\n",
    "<span style=\"color: grey;\">[output hidden]</span>\n",
    "\n",
    "### Exploring openSenseMap\n",
    "\n"
   ]
  },
  {
   "cell_type": "code",
   "execution_count": null,
   "metadata": {
    "Rmd_chunk_options": "explore_all",
    "autoscroll": false,
    "collapsed": true
   },
   "outputs": [],
   "source": [
    "all_boxes <- osem_boxes()\n",
    "analysis_date <- lubridate::as_datetime(\"2018-01-01 00:00:00\")\n",
    "pm25_boxes <- osem_boxes(\n",
    "  exposure = 'outdoor',\n",
    "  date = analysis_date, # ±4 hours\n",
    "  phenomenon = 'PM2.5',\n",
    "  model = \"homeWifiFeinstaub\" # redundant because of phenomenon\n",
    ")"
   ]
  },
  {
   "cell_type": "markdown",
   "metadata": {},
   "source": [
    "\n",
    "The openSenseMap currently provides access to `r nrow(all_boxes)` senseBoxes of which `r nrow(pm25_boxes)` provide measurements of [PM2.5](https://www.umweltbundesamt.de/sites/default/files/medien/377/dokumente/infoblatt_feinstaub_pm2_5_en.pdf) around `r format(analysis_date, \"%Y-%m-%d %T %Z\")`.\n",
    "\n",
    "The following map shows the PM2.5 sensor locations.\n",
    "\n"
   ]
  },
  {
   "cell_type": "code",
   "execution_count": null,
   "metadata": {
    "Rmd_chunk_options": "plot_outdoor_feinstaub",
    "autoscroll": false,
    "collapsed": true
   },
   "outputs": [],
   "source": [
    "plot(pm25_boxes)"
   ]
  },
  {
   "cell_type": "markdown",
   "metadata": {},
   "source": [
    "\n",
    "\n",
    "### Particulates at New Year's Eve in Münster\n",
    "\n",
    "_How many senseBoxes in Münster measure PM2.5 and what are the values?_\n",
    "\n"
   ]
  },
  {
   "cell_type": "code",
   "execution_count": null,
   "metadata": {
    "Rmd_chunk_options": "muenster_boxes",
    "autoscroll": false,
    "collapsed": true
   },
   "outputs": [],
   "source": [
    "ms <- st_sfc(st_point(c(7.62571, 51.96236)))\n",
    "st_crs(ms) <- 4326\n",
    "\n",
    "pm25_boxes_sf <- st_as_sf(pm25_boxes, remove = FALSE, agr = \"identity\")\n",
    "names(pm25_boxes_sf) <- c(names(pm25_boxes), \"geometry\")\n",
    "\n",
    "pm25_boxes_sf <- cbind(pm25_boxes_sf, dist_to_ms = st_distance(ms, pm25_boxes_sf))\n",
    "max_dist <- set_units(3, km) # km from city center\n",
    "\n",
    "ms_boxes <- pm25_boxes_sf[pm25_boxes_sf$dist_to_ms < max_dist,c(\"X_id\", \"name\")]\n",
    "ms_boxes"
   ]
  },
  {
   "cell_type": "markdown",
   "metadata": {},
   "source": [
    "\n",
    "Now we retrieve data for `r nrow(ms_boxes)` senseBoxes with values in the area of interest.\n",
    "\n"
   ]
  },
  {
   "cell_type": "code",
   "execution_count": null,
   "metadata": {
    "Rmd_chunk_options": "muenster_data",
    "autoscroll": false,
    "collapsed": true
   },
   "outputs": [],
   "source": [
    "class(ms_boxes) <- c(class(ms_boxes), \"sensebox\")\n",
    "ms_data <- osem_measurements(ms_boxes, phenomenon = \"PM2.5\",\n",
    "                             from = lubridate::as_datetime(\"2017-12-31 20:00:00\"),\n",
    "                             to = lubridate::as_datetime(\"2018-01-01 04:00:00\"))\n",
    "summary(ms_data %>%\n",
    "                select(value,createdAt,sensorId,unit))"
   ]
  },
  {
   "cell_type": "markdown",
   "metadata": {},
   "source": [
    "\n",
    "We can now plot `r nrow(ms_data)` measurements.\n",
    "\n"
   ]
  },
  {
   "cell_type": "code",
   "execution_count": null,
   "metadata": {
    "Rmd_chunk_options": "muenster_plot",
    "autoscroll": false,
    "collapsed": true
   },
   "outputs": [],
   "source": [
    "plot(value~createdAt, ms_data,\n",
    "     type = \"p\", pch = '*', cex = 2, # new year's style\n",
    "     col = factor(ms_data$sensorId),\n",
    "     xlab = NA,\n",
    "     ylab = unique(ms_data$unit),\n",
    "     main = \"Particulates measurements (PM2.5) on New Year 2017/2018\",\n",
    "     sub = paste(nrow(ms_boxes), \"stations in Münster, Germany\\n\",\n",
    "                 \"Data by openSenseMap.org licensed under\",\n",
    "                 \"Public Domain Dedication and License 1.0\"))"
   ]
  },
  {
   "cell_type": "markdown",
   "metadata": {},
   "source": [
    "\n",
    "You can see, it was a [very \"particular\" celebration](http://www.dw.com/en/new-years-eve-are-fireworks-harming-the-environment/a-41957523).\n",
    "\n",
    "_Who is the record holder?_\n",
    "\n"
   ]
  },
  {
   "cell_type": "code",
   "execution_count": null,
   "metadata": {
    "Rmd_chunk_options": "top_three",
    "autoscroll": false,
    "collapsed": true
   },
   "outputs": [],
   "source": [
    "top_three <- ms_data %>%\n",
    "  arrange(desc(value)) %>%\n",
    "  head(n = 3)\n",
    "knitr::kable(x = top_three,\n",
    "             caption = \"Top 3 measurements\")"
   ]
  },
  {
   "cell_type": "markdown",
   "metadata": {},
   "source": [
    "\n",
    "**Note:** The timestamp is UTC and the local time is [CET](https://en.wikipedia.org/wiki/CET) (`UTC+1:00`).\n",
    "\n"
   ]
  },
  {
   "cell_type": "code",
   "execution_count": null,
   "metadata": {
    "Rmd_chunk_options": "top_box",
    "autoscroll": false,
    "collapsed": true
   },
   "outputs": [],
   "source": [
    "# find the top station by its coordinates\n",
    "top_sensor <- ms_data %>% arrange(desc(value)) %>% head(n = 1) %>% .$sensorId\n",
    "top_box_coords <- ms_data %>% filter(sensorId == top_sensor) %>% select(\"lat\", \"lon\") %>% slice(c(1))\n",
    "top_box <- all_boxes %>% filter(lon == top_box_coords$lon, lat == top_box_coords$lat)\n",
    "\n",
    "knitr::kable(data.frame(top_sensor, top_box$name),\n",
    "             col.names = c(\"Top sensor identifier\", \"Top box name\"))"
   ]
  },
  {
   "cell_type": "markdown",
   "metadata": {},
   "source": [
    "\n",
    "Congratulations (?) to sensor _`r top_sensor`_ at box **`r top_box$name`** for holding the record values just after the new year started.\n",
    "\n",
    "_Where is the record holding box?_\n",
    "\n",
    "**Static plot**:\n",
    "\n"
   ]
  },
  {
   "cell_type": "code",
   "execution_count": null,
   "metadata": {
    "Rmd_chunk_options": "top_box_plot",
    "autoscroll": false,
    "collapsed": true
   },
   "outputs": [],
   "source": [
    "plot(top_box)"
   ]
  },
  {
   "cell_type": "markdown",
   "metadata": {},
   "source": [
    "\n",
    "**Interactive map** <span style=\"color: grey;\">[Does not work in Jupyter Notebook]</span>:\n",
    "\n"
   ]
  },
  {
   "cell_type": "code",
   "execution_count": null,
   "metadata": {
    "Rmd_chunk_options": "top_box_map",
    "autoscroll": false,
    "collapsed": true
   },
   "outputs": [],
   "source": [
    "fireworks_icon <- makeIcon(\n",
    "  # icon source: https://commons.wikimedia.org/wiki/File:Fireworks_2.png\n",
    "  iconUrl = \"320px-Fireworks_2.png\",\n",
    "  iconWidth = 160, iconHeight = 94)\n",
    "\n",
    "leaflet(data = top_box) %>%\n",
    "  addTiles() %>%\n",
    "  addMarkers(~lon, ~lat, popup = ~as.character(name), label = ~as.character(name),\n",
    "             icon = fireworks_icon)"
   ]
  },
  {
   "cell_type": "markdown",
   "metadata": {},
   "source": [
    "\n",
    "## Jupyter Notebook conversion\n",
    "\n",
    "A converted version of this file can in Jupyter Notebook format is automatically created with each rendering using [`ipyrmd`](https://pypi.python.org/pypi/ipyrmd/0.4.3).\n",
    "`ipyrmd` is installed with other dependencies in the file `install.R`.\n",
    "The Jupyter Notebook is intended to increase accessability for users unfamiliar with R Markdown.\n",
    "The automatic conversion does not handle code statements within sentences.\n",
    "\n",
    "```{bash}\n",
    "ipyrmd --to ipynb --from Rmd -y -o sensebox-analysis.ipynb sensebox-analysis.Rmd\n",
    "```\n",
    "\n",
    "## Conclusion\n",
    "\n",
    "This document creates a reproducible workflow of open data from a public API.\n",
    "It leverages software to create a transparent analysis, which can be easily opened, investigated, and even developed further with a web browser by opening the public code repository on a free cloud platform.\n",
    "To increase reproducibility, the data is cached manually as CSV files (i.e. text-based data format) and stored next to the analysis file.\n",
    "A use may adjust this workflow to her own needs, like different location or time period, by adjust the R code and deleting the data files.\n",
    "In case the exploration platform ceases to exist, users may still recreate the environment themselves based on the files in the code repository.\n",
    "A snapshot of the files from the code repository, i.e. data, code, and runtime environment (as a Docker image) are stored in a reliable data repository.\n",
    "While the manual workflow of building the image and running it is very likely to work in the future, the archived image captures the exact version of the software the original author used.\n",
    "\n",
    "The presented solution might seem complex.\n",
    "But it caters to many different levels of expertise (one-click open in browser vs. self-building of images and local inspection) and has several fail-safes (binder may disappear, GitHub repository may be lost, Docker may stop working).\n",
    "The additional work is much outweighed by the advantages in transparency and openness.\n",
    "\n",
    "## License\n",
    "\n",
    "<img alt=\"Creative Commons License\" style=\"border-width:0\" src=\"https://i.creativecommons.org/l/by/4.0/88x31.png\" />\n",
    "\n",
    "This document is licensed under a [Creative Commons Attribution 4.0 International ](https://creativecommons.org/licenses/by/4.0/) (CC BY 4.0).\n",
    "\n",
    "## Metadata\n",
    "\n"
   ]
  },
  {
   "cell_type": "code",
   "execution_count": null,
   "metadata": {
    "Rmd_chunk_options": "metadata",
    "autoscroll": false,
    "collapsed": true
   },
   "outputs": [],
   "source": [
    "sessionInfo()"
   ]
  }
 ],
 "metadata": {
  "Rmd_header": {
   "author": "Daniel Nüst",
   "date": "`r format(Sys.time(), '%Y-%m-%d %T %Z')`",
   "output": "html_document",
   "title": "Reproducible Environmental Observations and Analysis"
  },
  "kernelspec": {
   "display_name": "R",
   "language": "R",
   "name": "ir"
  },
  "language_info": {
   "codemirror_mode": "r",
   "file_extension": ".r",
   "mimetype": "text/x-r-source",
   "name": "R",
   "pygments_lexer": "r"
  }
 },
 "nbformat": 4,
 "nbformat_minor": 0
}
